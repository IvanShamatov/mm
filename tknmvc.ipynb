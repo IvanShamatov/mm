{
 "cells": [
  {
   "cell_type": "markdown",
   "metadata": {},
   "source": [
    "# Tk & MVC"
   ]
  },
  {
   "cell_type": "code",
   "execution_count": 1,
   "metadata": {},
   "outputs": [
    {
     "data": {
      "text/plain": [
       "[<Bundler::Dependency type=:runtime name=\"tk\" requirements=\">= 0\">, <Bundler::Dependency type=:runtime name=\"yaml\" requirements=\">= 0\">, <Bundler::Dependency type=:runtime name=\"pry\" requirements=\">= 0\">]"
      ]
     },
     "execution_count": 1,
     "metadata": {},
     "output_type": "execute_result"
    }
   ],
   "source": [
    "require 'bundler'\n",
    "Bundler.require\n"
   ]
  },
  {
   "cell_type": "code",
   "execution_count": 3,
   "metadata": {},
   "outputs": [
    {
     "data": {
      "text/plain": [
       "#<Tk::Tile::TLabel:0x00007facc818d180 @path=\".w00001.w00002\">"
      ]
     },
     "execution_count": 3,
     "metadata": {},
     "output_type": "execute_result"
    }
   ],
   "source": [
    "a = TkToplevel.new(title: \"test app\", geometry: \"300x200\")\n",
    "label = Tk::Tile::Label.new(a, text: 'wow').pack\n"
   ]
  },
  {
   "cell_type": "code",
   "execution_count": 4,
   "metadata": {},
   "outputs": [
    {
     "ename": "RuntimeError",
     "evalue": "NULL main window",
     "output_type": "error",
     "traceback": [
      "\u001b[31mRuntimeError\u001b[0m: NULL main window",
      "/home/ivan/.asdf/installs/ruby/3.1.0/lib/ruby/gems/3.1.0/gems/tk-0.5.0/lib/tk.rb:1930:in `_invoke'",
      "/home/ivan/.asdf/installs/ruby/3.1.0/lib/ruby/gems/3.1.0/gems/tk-0.5.0/lib/tk.rb:1930:in `_ip_invoke_core'",
      "/home/ivan/.asdf/installs/ruby/3.1.0/lib/ruby/gems/3.1.0/gems/tk-0.5.0/lib/tk.rb:1965:in `_tk_call_core'",
      "/home/ivan/.asdf/installs/ruby/3.1.0/lib/ruby/gems/3.1.0/gems/tk-0.5.0/lib/tk.rb:1992:in `tk_call_without_enc'",
      "/home/ivan/.asdf/installs/ruby/3.1.0/lib/ruby/gems/3.1.0/gems/tk-0.5.0/lib/tk.rb:5024:in `create_self'",
      "/home/ivan/.asdf/installs/ruby/3.1.0/lib/ruby/gems/3.1.0/gems/tk-0.5.0/lib/tk.rb:5006:in `initialize'",
      "(irb):2:in `new'",
      "(irb):2:in `<top (required)>'"
     ]
    }
   ],
   "source": [
    "class App2 < TkRoot; end\n",
    "app = App2.new\n",
    "Tk::Tile::Label.new(app, text: 'wow').pack\n",
    "app.mainloop\n"
   ]
  }
 ],
 "metadata": {
  "kernelspec": {
   "display_name": "Ruby 3.1.0",
   "language": "ruby",
   "name": "ruby"
  },
  "language_info": {
   "file_extension": ".rb",
   "mimetype": "application/x-ruby",
   "name": "ruby",
   "version": "3.1.0"
  }
 },
 "nbformat": 4,
 "nbformat_minor": 2
}
